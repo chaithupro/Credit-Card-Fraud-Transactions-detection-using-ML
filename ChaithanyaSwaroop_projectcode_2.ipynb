{
  "nbformat": 4,
  "nbformat_minor": 0,
  "metadata": {
    "colab": {
      "provenance": []
    },
    "kernelspec": {
      "name": "python3",
      "display_name": "Python 3"
    },
    "language_info": {
      "name": "python"
    }
  },
  "cells": [
    {
      "cell_type": "code",
      "source": [
        "import pandas as pd\n",
        "import numpy as np\n",
        "from sklearn.preprocessing import StandardScaler, OneHotEncoder\n",
        "from sklearn.impute import SimpleImputer\n",
        "from sklearn.feature_selection import SelectKBest, f_classif\n",
        "from sklearn.model_selection import train_test_split\n",
        "from imblearn.over_sampling import SMOTE\n",
        "from imblearn.under_sampling import RandomUnderSampler\n",
        "import matplotlib.pyplot as plt"
      ],
      "metadata": {
        "id": "xyTYxbf3_jN_"
      },
      "execution_count": null,
      "outputs": []
    },
    {
      "cell_type": "code",
      "source": [
        "# Load the dataset\n",
        "df = pd.read_csv('creditcard.csv')"
      ],
      "metadata": {
        "id": "Mi77wF_t_nRA"
      },
      "execution_count": null,
      "outputs": []
    },
    {
      "cell_type": "code",
      "source": [
        "# Data normalization using StandardScaler\n",
        "scaler = StandardScaler()\n",
        "df[['Amount', 'Time']] = scaler.fit_transform(df[['Amount', 'Time']])\n",
        "print('Normalized dataset: \\n', df.head())"
      ],
      "metadata": {
        "colab": {
          "base_uri": "https://localhost:8080/"
        },
        "id": "gJUCx_BT_4Ad",
        "outputId": "f79fb232-4026-4222-d5e5-4b41573df538"
      },
      "execution_count": null,
      "outputs": [
        {
          "output_type": "stream",
          "name": "stdout",
          "text": [
            "Normalized dataset: \n",
            "        Time        V1        V2        V3        V4        V5        V6  \\\n",
            "0 -1.996583 -1.359807 -0.072781  2.536347  1.378155 -0.338321  0.462388   \n",
            "1 -1.996583  1.191857  0.266151  0.166480  0.448154  0.060018 -0.082361   \n",
            "2 -1.996562 -1.358354 -1.340163  1.773209  0.379780 -0.503198  1.800499   \n",
            "3 -1.996562 -0.966272 -0.185226  1.792993 -0.863291 -0.010309  1.247203   \n",
            "4 -1.996541 -1.158233  0.877737  1.548718  0.403034 -0.407193  0.095921   \n",
            "\n",
            "         V7        V8        V9  ...       V21       V22       V23       V24  \\\n",
            "0  0.239599  0.098698  0.363787  ... -0.018307  0.277838 -0.110474  0.066928   \n",
            "1 -0.078803  0.085102 -0.255425  ... -0.225775 -0.638672  0.101288 -0.339846   \n",
            "2  0.791461  0.247676 -1.514654  ...  0.247998  0.771679  0.909412 -0.689281   \n",
            "3  0.237609  0.377436 -1.387024  ... -0.108300  0.005274 -0.190321 -1.175575   \n",
            "4  0.592941 -0.270533  0.817739  ... -0.009431  0.798278 -0.137458  0.141267   \n",
            "\n",
            "        V25       V26       V27       V28    Amount  Class  \n",
            "0  0.128539 -0.189115  0.133558 -0.021053  0.244964      0  \n",
            "1  0.167170  0.125895 -0.008983  0.014724 -0.342475      0  \n",
            "2 -0.327642 -0.139097 -0.055353 -0.059752  1.160686      0  \n",
            "3  0.647376 -0.221929  0.062723  0.061458  0.140534      0  \n",
            "4 -0.206010  0.502292  0.219422  0.215153 -0.073403      0  \n",
            "\n",
            "[5 rows x 31 columns]\n"
          ]
        }
      ]
    },
    {
      "cell_type": "code",
      "source": [
        "# Handling missing values using SimpleImputer\n",
        "imputer = SimpleImputer(strategy='mean')\n",
        "df[['V1', 'V2', 'V3', 'V4', 'V5']] = imputer.fit_transform(df[['V1', 'V2', 'V3', 'V4', 'V5']])\n",
        "print('Dataset with imputed missing values: \\n', df.head())"
      ],
      "metadata": {
        "colab": {
          "base_uri": "https://localhost:8080/"
        },
        "id": "Y8mdYJpQ_4Cz",
        "outputId": "712bc798-a524-4747-ff68-5d38f9559c1e"
      },
      "execution_count": null,
      "outputs": [
        {
          "output_type": "stream",
          "name": "stdout",
          "text": [
            "Dataset with imputed missing values: \n",
            "        Time        V1        V2        V3        V4        V5        V6  \\\n",
            "0 -1.996583 -1.359807 -0.072781  2.536347  1.378155 -0.338321  0.462388   \n",
            "1 -1.996583  1.191857  0.266151  0.166480  0.448154  0.060018 -0.082361   \n",
            "2 -1.996562 -1.358354 -1.340163  1.773209  0.379780 -0.503198  1.800499   \n",
            "3 -1.996562 -0.966272 -0.185226  1.792993 -0.863291 -0.010309  1.247203   \n",
            "4 -1.996541 -1.158233  0.877737  1.548718  0.403034 -0.407193  0.095921   \n",
            "\n",
            "         V7        V8        V9  ...       V21       V22       V23       V24  \\\n",
            "0  0.239599  0.098698  0.363787  ... -0.018307  0.277838 -0.110474  0.066928   \n",
            "1 -0.078803  0.085102 -0.255425  ... -0.225775 -0.638672  0.101288 -0.339846   \n",
            "2  0.791461  0.247676 -1.514654  ...  0.247998  0.771679  0.909412 -0.689281   \n",
            "3  0.237609  0.377436 -1.387024  ... -0.108300  0.005274 -0.190321 -1.175575   \n",
            "4  0.592941 -0.270533  0.817739  ... -0.009431  0.798278 -0.137458  0.141267   \n",
            "\n",
            "        V25       V26       V27       V28    Amount  Class  \n",
            "0  0.128539 -0.189115  0.133558 -0.021053  0.244964      0  \n",
            "1  0.167170  0.125895 -0.008983  0.014724 -0.342475      0  \n",
            "2 -0.327642 -0.139097 -0.055353 -0.059752  1.160686      0  \n",
            "3  0.647376 -0.221929  0.062723  0.061458  0.140534      0  \n",
            "4 -0.206010  0.502292  0.219422  0.215153 -0.073403      0  \n",
            "\n",
            "[5 rows x 31 columns]\n"
          ]
        }
      ]
    },
    {
      "cell_type": "code",
      "source": [
        "# Handling outliers using Z-score\n",
        "z_scores = (df['Amount'] - df['Amount'].mean()) / df['Amount'].std()\n",
        "df = df[(z_scores < 3)]\n",
        "print('Dataset with outliers removed: \\n', df.head())"
      ],
      "metadata": {
        "colab": {
          "base_uri": "https://localhost:8080/"
        },
        "id": "8ijT-Lio_4Fb",
        "outputId": "ea5f1294-d49c-4385-8a0e-7f13d09174dc"
      },
      "execution_count": null,
      "outputs": [
        {
          "output_type": "stream",
          "name": "stdout",
          "text": [
            "Dataset with outliers removed: \n",
            "        Time        V1        V2        V3        V4        V5        V6  \\\n",
            "0 -1.996583 -1.359807 -0.072781  2.536347  1.378155 -0.338321  0.462388   \n",
            "1 -1.996583  1.191857  0.266151  0.166480  0.448154  0.060018 -0.082361   \n",
            "2 -1.996562 -1.358354 -1.340163  1.773209  0.379780 -0.503198  1.800499   \n",
            "3 -1.996562 -0.966272 -0.185226  1.792993 -0.863291 -0.010309  1.247203   \n",
            "4 -1.996541 -1.158233  0.877737  1.548718  0.403034 -0.407193  0.095921   \n",
            "\n",
            "         V7        V8        V9  ...       V21       V22       V23       V24  \\\n",
            "0  0.239599  0.098698  0.363787  ... -0.018307  0.277838 -0.110474  0.066928   \n",
            "1 -0.078803  0.085102 -0.255425  ... -0.225775 -0.638672  0.101288 -0.339846   \n",
            "2  0.791461  0.247676 -1.514654  ...  0.247998  0.771679  0.909412 -0.689281   \n",
            "3  0.237609  0.377436 -1.387024  ... -0.108300  0.005274 -0.190321 -1.175575   \n",
            "4  0.592941 -0.270533  0.817739  ... -0.009431  0.798278 -0.137458  0.141267   \n",
            "\n",
            "        V25       V26       V27       V28    Amount  Class  \n",
            "0  0.128539 -0.189115  0.133558 -0.021053  0.244964      0  \n",
            "1  0.167170  0.125895 -0.008983  0.014724 -0.342475      0  \n",
            "2 -0.327642 -0.139097 -0.055353 -0.059752  1.160686      0  \n",
            "3  0.647376 -0.221929  0.062723  0.061458  0.140534      0  \n",
            "4 -0.206010  0.502292  0.219422  0.215153 -0.073403      0  \n",
            "\n",
            "[5 rows x 31 columns]\n"
          ]
        }
      ]
    },
    {
      "cell_type": "code",
      "source": [
        "# Feature selection using SelectKBest\n",
        "selector = SelectKBest(f_classif, k=10)\n",
        "X = df.drop(['Class'], axis=1)\n",
        "y = df['Class']\n",
        "X_new = selector.fit_transform(X, y)\n",
        "print('Selected features: \\n', selector.get_support())"
      ],
      "metadata": {
        "colab": {
          "base_uri": "https://localhost:8080/"
        },
        "id": "NMN9tmji_4Hi",
        "outputId": "c77c6175-df92-44c6-eaba-71283a35a1b0"
      },
      "execution_count": null,
      "outputs": [
        {
          "output_type": "stream",
          "name": "stdout",
          "text": [
            "Selected features: \n",
            " [False False False  True  True False False  True False False  True  True\n",
            "  True False  True False  True  True  True False False False False False\n",
            " False False False False False False]\n"
          ]
        }
      ]
    },
    {
      "cell_type": "code",
      "source": [
        "from imblearn.over_sampling import SMOTE\n",
        "\n",
        "sm = SMOTE(random_state=42, k_neighbors=1)  # Set k_neighbors to a value less than or equal to the number of samples\n",
        "X_res, y_res = sm.fit_resample(X_new, y)\n",
        "print('Balanced dataset: \\n', pd.concat([pd.DataFrame(X_res), pd.DataFrame(y_res)], axis=1).head())\n"
      ],
      "metadata": {
        "colab": {
          "base_uri": "https://localhost:8080/"
        },
        "id": "wcdnBB_GtEeW",
        "outputId": "47fb0c2f-00f3-44fa-e05d-2c65a0295b85"
      },
      "execution_count": null,
      "outputs": [
        {
          "output_type": "stream",
          "name": "stdout",
          "text": [
            "Balanced dataset: \n",
            "           0         1         2         3         4         5         6  \\\n",
            "0  2.536347  1.378155  0.239599  0.090794 -0.551600 -0.617801 -0.311169   \n",
            "1  0.166480  0.448154 -0.078803 -0.166974  1.612727  1.065235 -0.143772   \n",
            "2  1.773209  0.379780  0.791461  0.207643  0.624501  0.066084 -0.165946   \n",
            "3  1.792993 -0.863291  0.237609 -0.054952 -0.226487  0.178228 -0.287924   \n",
            "4  1.548718  0.403034  0.592941  0.753074 -0.822843  0.538196 -1.119670   \n",
            "\n",
            "          7         8         9  Class  \n",
            "0 -0.470401  0.207971  0.025791      0  \n",
            "1  0.463917 -0.114805 -0.183361      0  \n",
            "2 -2.890083  1.109969 -0.121359      0  \n",
            "3 -1.059647 -0.684093  1.965775      0  \n",
            "4 -0.451449 -0.237033 -0.038195      0  \n"
          ]
        }
      ]
    },
    {
      "cell_type": "code",
      "source": [
        "# Handling categorical variables using OneHotEncoder\n",
        "encoder = OneHotEncoder()\n",
        "X_encoded = encoder.fit_transform(df[['Class']])\n",
        "print('Encoded categorical variables: \\n', X_encoded.toarray())"
      ],
      "metadata": {
        "colab": {
          "base_uri": "https://localhost:8080/"
        },
        "id": "nlZKLViEAdJL",
        "outputId": "33fefcb2-e37c-41a8-fa55-0464a58f1c28"
      },
      "execution_count": null,
      "outputs": [
        {
          "output_type": "stream",
          "name": "stdout",
          "text": [
            "Encoded categorical variables: \n",
            " [[1. 0.]\n",
            " [1. 0.]\n",
            " [1. 0.]\n",
            " ...\n",
            " [1. 0.]\n",
            " [1. 0.]\n",
            " [1. 0.]]\n"
          ]
        }
      ]
    },
    {
      "cell_type": "code",
      "source": [
        "# Data splitting\n",
        "X_train, X_test, y_train, y_test = train_test_split(X_res, y_res, test_size=0.2, random_state=42)\n",
        "print('Training data shape: ', X_train.shape, y_train.shape)\n",
        "print('Testing data shape: ', X_test.shape, y_test.shape)"
      ],
      "metadata": {
        "colab": {
          "base_uri": "https://localhost:8080/"
        },
        "id": "A_Td2HCkBAqO",
        "outputId": "c90ed1f6-9809-4dcc-da33-942f6ac925a4"
      },
      "execution_count": null,
      "outputs": [
        {
          "output_type": "stream",
          "name": "stdout",
          "text": [
            "Training data shape:  (448400, 10) (448400,)\n",
            "Testing data shape:  (112100, 10) (112100,)\n"
          ]
        }
      ]
    },
    {
      "cell_type": "code",
      "source": [
        "# Handling missing values using median imputation\n",
        "imputer = SimpleImputer(strategy='median')\n",
        "df[['V6', 'V7', 'V8', 'V9', 'V10']] = imputer.fit_transform(df[['V6', 'V7', 'V8', 'V9', 'V10']])\n",
        "print('Dataset with imputed missing values: \\n', df.head())"
      ],
      "metadata": {
        "colab": {
          "base_uri": "https://localhost:8080/"
        },
        "id": "LU-m8ruLB26C",
        "outputId": "950a266d-cacc-481d-8436-991c9edea4dd"
      },
      "execution_count": null,
      "outputs": [
        {
          "output_type": "stream",
          "name": "stdout",
          "text": [
            "Dataset with imputed missing values: \n",
            "        Time        V1        V2        V3        V4        V5        V6  \\\n",
            "0 -1.996583 -1.359807 -0.072781  2.536347  1.378155 -0.338321  0.462388   \n",
            "1 -1.996583  1.191857  0.266151  0.166480  0.448154  0.060018 -0.082361   \n",
            "2 -1.996562 -1.358354 -1.340163  1.773209  0.379780 -0.503198  1.800499   \n",
            "3 -1.996562 -0.966272 -0.185226  1.792993 -0.863291 -0.010309  1.247203   \n",
            "4 -1.996541 -1.158233  0.877737  1.548718  0.403034 -0.407193  0.095921   \n",
            "\n",
            "         V7        V8        V9  ...       V21       V22       V23       V24  \\\n",
            "0  0.239599  0.098698  0.363787  ... -0.018307  0.277838 -0.110474  0.066928   \n",
            "1 -0.078803  0.085102 -0.255425  ... -0.225775 -0.638672  0.101288 -0.339846   \n",
            "2  0.791461  0.247676 -1.514654  ...  0.247998  0.771679  0.909412 -0.689281   \n",
            "3  0.237609  0.377436 -1.387024  ... -0.108300  0.005274 -0.190321 -1.175575   \n",
            "4  0.592941 -0.270533  0.817739  ... -0.009431  0.798278 -0.137458  0.141267   \n",
            "\n",
            "        V25       V26       V27       V28    Amount  Class  \n",
            "0  0.128539 -0.189115  0.133558 -0.021053  0.244964      0  \n",
            "1  0.167170  0.125895 -0.008983  0.014724 -0.342475      0  \n",
            "2 -0.327642 -0.139097 -0.055353 -0.059752  1.160686      0  \n",
            "3  0.647376 -0.221929  0.062723  0.061458  0.140534      0  \n",
            "4 -0.206010  0.502292  0.219422  0.215153 -0.073403      0  \n",
            "\n",
            "[5 rows x 31 columns]\n"
          ]
        }
      ]
    },
    {
      "cell_type": "code",
      "source": [
        "# Handling skewed data using logarithmic transformation\n",
        "df['Amount'] = np.log(df['Amount'] + 0.001)\n",
        "print('Dataset with logarithmic transformation: \\n', df.head())"
      ],
      "metadata": {
        "colab": {
          "base_uri": "https://localhost:8080/"
        },
        "id": "gd_JCmP4CZDH",
        "outputId": "41cfc130-548e-4a77-93af-d3f29d6affe3"
      },
      "execution_count": null,
      "outputs": [
        {
          "output_type": "stream",
          "name": "stdout",
          "text": [
            "Dataset with logarithmic transformation: \n",
            "        Time        V1        V2        V3        V4        V5        V6  \\\n",
            "0 -1.996583 -1.359807 -0.072781  2.536347  1.378155 -0.338321  0.462388   \n",
            "1 -1.996583  1.191857  0.266151  0.166480  0.448154  0.060018 -0.082361   \n",
            "2 -1.996562 -1.358354 -1.340163  1.773209  0.379780 -0.503198  1.800499   \n",
            "3 -1.996562 -0.966272 -0.185226  1.792993 -0.863291 -0.010309  1.247203   \n",
            "4 -1.996541 -1.158233  0.877737  1.548718  0.403034 -0.407193  0.095921   \n",
            "\n",
            "         V7        V8        V9  ...       V21       V22       V23       V24  \\\n",
            "0  0.239599  0.098698  0.363787  ... -0.018307  0.277838 -0.110474  0.066928   \n",
            "1 -0.078803  0.085102 -0.255425  ... -0.225775 -0.638672  0.101288 -0.339846   \n",
            "2  0.791461  0.247676 -1.514654  ...  0.247998  0.771679  0.909412 -0.689281   \n",
            "3  0.237609  0.377436 -1.387024  ... -0.108300  0.005274 -0.190321 -1.175575   \n",
            "4  0.592941 -0.270533  0.817739  ... -0.009431  0.798278 -0.137458  0.141267   \n",
            "\n",
            "        V25       V26       V27       V28    Amount  Class  \n",
            "0  0.128539 -0.189115  0.133558 -0.021053 -1.402569      0  \n",
            "1  0.167170  0.125895 -0.008983  0.014724       NaN      0  \n",
            "2 -0.327642 -0.139097 -0.055353 -0.059752  0.149872      0  \n",
            "3  0.647376 -0.221929  0.062723  0.061458 -1.955214      0  \n",
            "4 -0.206010  0.502292  0.219422  0.215153       NaN      0  \n",
            "\n",
            "[5 rows x 31 columns]\n"
          ]
        },
        {
          "output_type": "stream",
          "name": "stderr",
          "text": [
            "/usr/local/lib/python3.10/dist-packages/pandas/core/arraylike.py:402: RuntimeWarning: invalid value encountered in log\n",
            "  result = getattr(ufunc, method)(*inputs, **kwargs)\n"
          ]
        }
      ]
    },
    {
      "cell_type": "code",
      "source": [
        "# Visualize the data distribution after logarithmic transformation\n",
        "plt.hist(df['Amount'], bins=50)\n",
        "plt.title('Amount Distribution after Logarithmic Transformation')\n",
        "plt.xlabel('Amount (log scale)')\n",
        "plt.ylabel('Count')\n",
        "plt.show()"
      ],
      "metadata": {
        "colab": {
          "base_uri": "https://localhost:8080/",
          "height": 472
        },
        "id": "UZa0TML5Cirs",
        "outputId": "a102c9bd-4f99-458d-a7b0-8235971730d2"
      },
      "execution_count": null,
      "outputs": [
        {
          "output_type": "display_data",
          "data": {
            "text/plain": [
              "<Figure size 640x480 with 1 Axes>"
            ],
            "image/png": "[encoded data removed]"
          },
          "metadata": {}
        }
      ]
    },
    {
      "cell_type": "code",
      "source": [
        "# Visualize the data distribution before and after random undersampling\n",
        "fig, axs = plt.subplots(1, 2, figsize=(10, 5))\n",
        "axs[0].hist(y, bins=2)\n",
        "axs[0].set_title('Class Distribution before Undersampling')\n",
        "axs[0].set_xlabel('Class')\n",
        "axs[0].set_ylabel('Count')\n",
        "axs[1].hist(y_res, bins=2)\n",
        "axs[1].set_title('Class Distribution after Undersampling')\n",
        "axs[1].set_xlabel('Class')\n",
        "axs[1].set_ylabel('Count')\n",
        "plt.show()"
      ],
      "metadata": {
        "colab": {
          "base_uri": "https://localhost:8080/",
          "height": 487
        },
        "id": "3tjKG28qCxKi",
        "outputId": "96903bc8-99ca-4d53-9301-d384f1669777"
      },
      "execution_count": null,
      "outputs": [
        {
          "output_type": "display_data",
          "data": {
            "text/plain": [
              "<Figure size 1000x500 with 2 Axes>"
            ],
            "image/png": "[encoded data removed]"
          },
          "metadata": {}
        }
      ]
    }
  ]
}